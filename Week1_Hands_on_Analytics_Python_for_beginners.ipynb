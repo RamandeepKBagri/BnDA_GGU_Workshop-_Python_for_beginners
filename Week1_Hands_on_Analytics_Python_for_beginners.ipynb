{
  "nbformat": 4,
  "nbformat_minor": 0,
  "metadata": {
    "colab": {
      "name": "Week1: Hands on Analytics Python for beginners.ipynb",
      "provenance": [],
      "collapsed_sections": [],
      "include_colab_link": true
    },
    "kernelspec": {
      "name": "python3",
      "display_name": "Python 3"
    }
  },
  "cells": [
    {
      "cell_type": "markdown",
      "metadata": {
        "id": "view-in-github",
        "colab_type": "text"
      },
      "source": [
        "<a href=\"https://colab.research.google.com/github/RamandeepKBagri/BnDA_GGU_Workshop-_Python_for_beginners/blob/master/Week1_Hands_on_Analytics_Python_for_beginners.ipynb\" target=\"_parent\"><img src=\"https://colab.research.google.com/assets/colab-badge.svg\" alt=\"Open In Colab\"/></a>"
      ]
    },
    {
      "cell_type": "markdown",
      "metadata": {
        "id": "BSq5uHJmo7Zm",
        "colab_type": "text"
      },
      "source": [
        "Please follow Code of Conduct for the workshop in order to maintain ethics of the \"Business & Data Analytics Club\" of Golden Gate University. \n",
        "\n"
      ]
    },
    {
      "cell_type": "markdown",
      "metadata": {
        "id": "AQvu6KNqmjdM",
        "colab_type": "text"
      },
      "source": [
        "# **Welcome to the workshop**\n",
        "\n",
        "**Hands on Python for beginners**\n",
        "# Please read carefully:\n",
        "Let's get started with basic concepts of python;\n",
        "\n",
        "Temporary layout for the 3-week workshop \n",
        "\n",
        "1. Week1: Fundamentals of python\n",
        "\n",
        "2. Week2: Data Cleaning and Visualization\n",
        "\n",
        "3. Week3: Linear regression and Naive Bayes\n",
        "\n",
        "Any questions about today's content, please reach at rbagri@umail.ggu.edu. Any queries about the workshop or details please reach at bnda.ggu@gmail.com. I would recommend to google the situation for your best. \n",
        "I am not expertise, learning just like you guyz. I am grad student in Golden Gate University and happy to share my knowledge with my friends. I apologize if there will be any error or mistake, will try my best of knowledge to deliver quality content. \n",
        "\n",
        "\n",
        "\n"
      ]
    },
    {
      "cell_type": "markdown",
      "metadata": {
        "id": "NfZGfhKndhlo",
        "colab_type": "text"
      },
      "source": [
        "Reference\n",
        "\n",
        "This material and examples are being used with the permission of author;\n",
        "\n",
        "Kalb. I. (2016). Learn to Program with Python, Apress L. P. Retreived from https://www.amazon.com/Learn-Program-Python-Step-Step/dp/1484238788/ref=sr_1_1?dchild=1&keywords=kalb+python&qid=1591156271&s=books&sr=1-1\n",
        "\n"
      ]
    },
    {
      "cell_type": "markdown",
      "metadata": {
        "id": "AKeSpAr3uMDY",
        "colab_type": "text"
      },
      "source": [
        "**Week 1: Fundamentals of Python**"
      ]
    },
    {
      "cell_type": "markdown",
      "metadata": {
        "id": "_RxFipjZx9z7",
        "colab_type": "text"
      },
      "source": [
        "Python first version released in the 1991 by Guido von Rossum at CWI (Centrum Wiskunde & Informatica).  (Worked for Google, now at DropBox in SF)  It has two current versions, 2.7 and 3.6. It became efficient language with added features, multiple libraries for research and prototyping but also for building the production systems. Check out more information about Python here at [Python doc](https://www.python.org/doc/).(Kalb, n.d.). If you are using any version of python, it is important to know that save your file with .py extension, otherwise you may loose your work or python will not recognize that it's python file. "
      ]
    },
    {
      "cell_type": "markdown",
      "metadata": {
        "id": "9H8QDJ2n0M6e",
        "colab_type": "text"
      },
      "source": [
        "Some of the basic concepts are similar in programming languages example defining variables, assignment statements, if statements, function calls (Kalb. I., n.d).     "
      ]
    },
    {
      "cell_type": "code",
      "metadata": {
        "id": "R3nvOdVZ2MzK",
        "colab_type": "code",
        "colab": {
          "base_uri": "https://localhost:8080/",
          "height": 34
        },
        "outputId": "42e6bd13-375a-4b61-85c1-1c066f0ebbf0"
      },
      "source": [
        "print('Welcome to the workshop for learning from learner') #optional - try Hello World"
      ],
      "execution_count": null,
      "outputs": [
        {
          "output_type": "stream",
          "text": [
            "Welcome to the workshop for learning from learner\n"
          ],
          "name": "stdout"
        }
      ]
    },
    {
      "cell_type": "code",
      "metadata": {
        "id": "9UCn6-p62Y40",
        "colab_type": "code",
        "colab": {
          "base_uri": "https://localhost:8080/",
          "height": 68
        },
        "outputId": "46943b42-77d9-47b8-c72b-e018ca1a2013"
      },
      "source": [
        "print('I am typing to print python code')\n",
        "print('Press enter and give another print statement')\n",
        "print('Now execute these print statements to see the magic of python')"
      ],
      "execution_count": null,
      "outputs": [
        {
          "output_type": "stream",
          "text": [
            "I am typing to print python code\n",
            "Press enter and give another print statement\n",
            "Now execute these print statements to see the magic of python\n"
          ],
          "name": "stdout"
        }
      ]
    },
    {
      "cell_type": "markdown",
      "metadata": {
        "id": "HXfHxGSJ7QhQ",
        "colab_type": "text"
      },
      "source": [
        "There are two building blocks of programming data and code. Data is the quantities, characters, or symbols on which operations are performed with the computer (Kalb, n.d.). Examples of the data are number of plants, number of animals, names and many more. \n",
        "\n",
        "You will came across many types of data (clickstream, images etc), as it's beginners workshop, we will discuss only four types of data. \n",
        "\n",
        "First two categories are of numbers (Integers or Floating points)\n",
        "   \n",
        "   1. Integers examples are temperature, Number of attendees in workshop, number of courses you are taking, course number.\n",
        "\n",
        "   2. Floating number examples are GPA, how much you paid for purse, percentages, irrational numbers like pi. \n",
        "\n",
        "3. String data (also called text data or \"any sequence of characters (Kalb, 2016)\")\n",
        "\n",
        "    Text data examples are name of the workshop, names of all attendees, sentences. \n",
        "\n",
        "4. Boolean (True or False) (only 2 states)\n",
        "  light is on or off, Inside or outside, listening or not listening. \n",
        "\n"
      ]
    },
    {
      "cell_type": "markdown",
      "metadata": {
        "id": "cAS3SY5_-eUW",
        "colab_type": "text"
      },
      "source": [
        "Variables\n",
        "\n",
        "Name of the memory location that holds a value. Location of the memory doesn't change but value changes all the time. \n",
        "\n",
        "ASSIGNMENT STATEMENT: In this statement, \"variable is given to the value\".\n",
        "\n",
        "\n",
        "Syntax of the variable is;\n",
        "                     \n",
        "                     <variable> = <expression>\n",
        "              Eg.,   Score  =  0\n",
        "\n",
        "There are few rules in Python where below names cannot be used as variable names;\n",
        "\n",
        "and, if, as, import, assert, in, break, is, class, lambda, continue, not, def, or, del, pass, elif, print, else, raise, except, return, exec, try, finally, while, for, with, from, yield, global, True, False, None.\n"
      ]
    },
    {
      "cell_type": "markdown",
      "metadata": {
        "id": "53YAkGghOlJk",
        "colab_type": "text"
      },
      "source": [
        "Basic mathematical operators in Python; \n",
        "\n",
        " (plus) + , - (minus) , * (multiply) , / (divide) , % (remainder), * * (exponent) , \n",
        "\n",
        "not  or   and (logical operators), \n",
        "\n",
        "in  not in (membership operators), \n",
        "\n",
        "<>      ==      != (Equality operators), \n",
        "\n",
        "<=      <>      >=  (comparison operators)."
      ]
    },
    {
      "cell_type": "code",
      "metadata": {
        "id": "jE1Z4ucgMJD3",
        "colab_type": "code",
        "colab": {
          "base_uri": "https://localhost:8080/",
          "height": 34
        },
        "outputId": "8fe1b2ef-9949-4c9a-e417-9e0e098fb43a"
      },
      "source": [
        "x = 2999\n",
        "y = 46000\n",
        "print('sum of x and y is',x+y)                   #try (x-y), (x/y), (x*y), (x/y), (x%y), (x**y)"
      ],
      "execution_count": null,
      "outputs": [
        {
          "output_type": "stream",
          "text": [
            "sum of x and y is 48999\n"
          ],
          "name": "stdout"
        }
      ]
    },
    {
      "cell_type": "code",
      "metadata": {
        "id": "kr6Bz9NSQK1C",
        "colab_type": "code",
        "colab": {
          "base_uri": "https://localhost:8080/",
          "height": 34
        },
        "outputId": "632de905-681e-4891-b43b-51836c868729"
      },
      "source": [
        "englishLetters = 26        #assigning the value to variable and then print\n",
        "print('Number of english letters',englishLetters)"
      ],
      "execution_count": null,
      "outputs": [
        {
          "output_type": "stream",
          "text": [
            "Number of english letters 26\n"
          ],
          "name": "stdout"
        }
      ]
    },
    {
      "cell_type": "code",
      "metadata": {
        "id": "q5fPHea2RFxQ",
        "colab_type": "code",
        "colab": {
          "base_uri": "https://localhost:8080/",
          "height": 34
        },
        "outputId": "103a2ab5-94cf-4bb8-f466-e95747331fad"
      },
      "source": [
        "radius = 5\n",
        "pi = 22/7\n",
        "areaOfCircle = pi * radius ** 2                     #calculate area of circle, try at home calculate area of rectangle, sphere, parallelogram\n",
        "print (\"Area of Circle is\",areaOfCircle )"
      ],
      "execution_count": null,
      "outputs": [
        {
          "output_type": "stream",
          "text": [
            "Area of Circle 78.57142857142857\n"
          ],
          "name": "stdout"
        }
      ]
    },
    {
      "cell_type": "code",
      "metadata": {
        "id": "2EUVg2F1UJ7l",
        "colab_type": "code",
        "colab": {
          "base_uri": "https://localhost:8080/",
          "height": 34
        },
        "outputId": "2d771c79-6832-4cf8-f320-17660e592548"
      },
      "source": [
        "price = 100000                           #discount on your purchase\n",
        "discount = price * 80 // 100\n",
        "total = price - discount\n",
        "print ('your payment is', total)"
      ],
      "execution_count": null,
      "outputs": [
        {
          "output_type": "stream",
          "text": [
            "your payment is 20000\n"
          ],
          "name": "stdout"
        }
      ]
    },
    {
      "cell_type": "code",
      "metadata": {
        "id": "MgYjq82hpYs-",
        "colab_type": "code",
        "colab": {
          "base_uri": "https://localhost:8080/",
          "height": 34
        },
        "outputId": "05057acf-83f9-4c16-a48b-868fbbfe4a4c"
      },
      "source": [
        "numberOfFives = 20000                      #money in the wallet program \n",
        "numberOfOnes = 110000\n",
        "numberOfTens = 15000\n",
        "numberOfTwenties = 20000\n",
        "numberOfFiftees = 50000\n",
        "total = numberOfFives + (numberOfOnes * 10) + (numberOfTens * 30) + (numberOfTwenties * 10) + (numberOfFiftees * 10)\n",
        "print('Total amount is', total)"
      ],
      "execution_count": null,
      "outputs": [
        {
          "output_type": "stream",
          "text": [
            "Total amount is 2270000\n"
          ],
          "name": "stdout"
        }
      ]
    },
    {
      "cell_type": "code",
      "metadata": {
        "id": "JSQBQ2MNrqBA",
        "colab_type": "code",
        "colab": {
          "base_uri": "https://localhost:8080/",
          "height": 34
        },
        "outputId": "1373feff-11c4-4c46-838b-8115eddfe20c"
      },
      "source": [
        "x = 999998999\n",
        "y = 678999999\n",
        "print('The product is', x*y)"
      ],
      "execution_count": null,
      "outputs": [
        {
          "output_type": "stream",
          "text": [
            "The product is 678999319321001001\n"
          ],
          "name": "stdout"
        }
      ]
    },
    {
      "cell_type": "code",
      "metadata": {
        "id": "Ls2A7dbbr9m8",
        "colab_type": "code",
        "colab": {
          "base_uri": "https://localhost:8080/",
          "height": 34
        },
        "outputId": "5c2658d6-d773-4b23-a1df-f0b524fbb560"
      },
      "source": [
        "numberOfInfectedPeopleFromCOVID = 200000\n",
        "numberOfPeopleRecovered = 80000\n",
        "numberOfPeopleTestedPositive = 40000\n",
        "total = (numberOfInfectedPeopleFromCOVID + numberOfPeopleTestedPositive) - (numberOfPeopleRecovered)\n",
        "print('newCOVIDinfectedData', total)"
      ],
      "execution_count": null,
      "outputs": [
        {
          "output_type": "stream",
          "text": [
            "newCOVIDinfectedData 160000\n"
          ],
          "name": "stdout"
        }
      ]
    },
    {
      "cell_type": "code",
      "metadata": {
        "id": "gbMJcSSgXe_M",
        "colab_type": "code",
        "colab": {
          "base_uri": "https://localhost:8080/",
          "height": 34
        },
        "outputId": "ef0243d0-0ece-4e73-df9f-b9c84211950f"
      },
      "source": [
        "sum(range(11)) #0+1+2+3+4+5+6+7+8+9+10"
      ],
      "execution_count": null,
      "outputs": [
        {
          "output_type": "execute_result",
          "data": {
            "text/plain": [
              "55"
            ]
          },
          "metadata": {
            "tags": []
          },
          "execution_count": 10
        }
      ]
    },
    {
      "cell_type": "code",
      "metadata": {
        "id": "1a-qP36SZYUa",
        "colab_type": "code",
        "colab": {
          "base_uri": "https://localhost:8080/",
          "height": 34
        },
        "outputId": "054c56cd-a354-4006-c25c-8f7522f818dd"
      },
      "source": [
        "list(range(5))"
      ],
      "execution_count": null,
      "outputs": [
        {
          "output_type": "execute_result",
          "data": {
            "text/plain": [
              "[0, 1, 2, 3, 4]"
            ]
          },
          "metadata": {
            "tags": []
          },
          "execution_count": 13
        }
      ]
    },
    {
      "cell_type": "markdown",
      "metadata": {
        "id": "JJ8twM40UzYI",
        "colab_type": "text"
      },
      "source": [
        "Suggestion: Practise more of these simple programs.\n",
        "\n",
        "A group of “statements” like this in Python is called a “function” (Kalb, 2016).\n",
        " It is a series of the steps defined called in function and execute them over defined type of function; take a look at syntax\n",
        "\n",
        "\n",
        " "
      ]
    },
    {
      "cell_type": "code",
      "metadata": {
        "id": "BWBDsI7CrtcP",
        "colab_type": "code",
        "colab": {}
      },
      "source": [
        " def getGroceries():  \n",
        "   print(\"milk\")  \n",
        "   print(\"flour\")  \n",
        "   print(\"sugar\")  \n",
        "   print(\"squash\")  \n",
        "   print()  #blank line \n",
        "\n"
      ],
      "execution_count": null,
      "outputs": []
    },
    {
      "cell_type": "code",
      "metadata": {
        "id": "4j_9g-yKuNOc",
        "colab_type": "code",
        "colab": {
          "base_uri": "https://localhost:8080/",
          "height": 153
        },
        "outputId": "9f24082d-4eb9-4a85-ac3f-b82ef470ae69"
      },
      "source": [
        "#calculate an average of three numbers\n",
        "\n",
        "def calculateAverage(value1,value2,value3):\n",
        "    total=value1+value2+value3\n",
        "    average=total/3\n",
        "    print('the average of the numbers',format(average,'.2f'))\n",
        "    return average #hand this back to the caller\n",
        "\n",
        "#main code\n",
        "answer1=calculateAverage(-10,20,30) #pass in an argument \n",
        "answer2=calculateAverage(1,6,7)\n",
        "answer3=calculateAverage(.099,36,.67)\n",
        "\n",
        "number1=input('enter a number')\n",
        "number1=float(number1)\n",
        "number2=input('enter a number')\n",
        "number2=float(number2)\n",
        "number3=input('enter a number')\n",
        "number3=float(number3)\n",
        "answer4=calculateAverage(number1,number2,number3)\n",
        "\n",
        "print('the average were',answer1,answer2, answer3, answer4)\n",
        "\n"
      ],
      "execution_count": null,
      "outputs": [
        {
          "output_type": "stream",
          "text": [
            "the average of the numbers 13.33\n",
            "the average of the numbers 4.67\n",
            "the average of the numbers 12.26\n",
            "enter a number45\n",
            "enter a number56\n",
            "enter a number78\n",
            "the average of the numbers 59.67\n",
            "the average were 13.333333333333334 4.666666666666667 12.256333333333332 59.666666666666664\n"
          ],
          "name": "stdout"
        }
      ]
    },
    {
      "cell_type": "markdown",
      "metadata": {
        "id": "ZYtFQGyXVNJL",
        "colab_type": "text"
      },
      "source": [
        "Use 'Function'or call function;\n",
        "\n",
        "                 <functionname>()\n",
        "\n",
        "You need argument, \n",
        "                \n",
        "                 <functionname> (<argument1>, <argument2>, ....)\n",
        "\n",
        "to return the value, you need variable using assignmet statement; \n",
        "\n",
        "          <varaible> = <functonname> (<argument1>, <argument2>,....)\n",
        "\n",
        "          \n",
        "\n",
        "\n"
      ]
    },
    {
      "cell_type": "code",
      "metadata": {
        "id": "KYlW5_9XegJ5",
        "colab_type": "code",
        "colab": {
          "base_uri": "https://localhost:8080/",
          "height": 34
        },
        "outputId": "a02a8227-c83f-445c-9762-def9fef526a1"
      },
      "source": [
        "anyVar = 31\n",
        "print(type(anyVar))"
      ],
      "execution_count": null,
      "outputs": [
        {
          "output_type": "stream",
          "text": [
            "<class 'int'>\n"
          ],
          "name": "stdout"
        }
      ]
    },
    {
      "cell_type": "code",
      "metadata": {
        "id": "oW7Q8Q1lezo4",
        "colab_type": "code",
        "colab": {
          "base_uri": "https://localhost:8080/",
          "height": 34
        },
        "outputId": "7293fe12-5603-407e-b43a-bba5c1d126a4"
      },
      "source": [
        "var2 = '31'\n",
        "print(type(var2))"
      ],
      "execution_count": null,
      "outputs": [
        {
          "output_type": "stream",
          "text": [
            "<class 'str'>\n"
          ],
          "name": "stdout"
        }
      ]
    },
    {
      "cell_type": "code",
      "metadata": {
        "id": "vBQgiDTRidAM",
        "colab_type": "code",
        "colab": {
          "base_uri": "https://localhost:8080/",
          "height": 34
        },
        "outputId": "05556f13-23d3-4d2e-8b53-4c5767796e7a"
      },
      "source": [
        "getavalue = input('enter any number')\n",
        "getavlue = int(getavalue)"
      ],
      "execution_count": null,
      "outputs": [
        {
          "output_type": "stream",
          "text": [
            "enter any number54\n"
          ],
          "name": "stdout"
        }
      ]
    },
    {
      "cell_type": "markdown",
      "metadata": {
        "id": "s-tl-LNFjBGS",
        "colab_type": "text"
      },
      "source": [
        "Now you can also use if and else statements; \n",
        " \n"
      ]
    },
    {
      "cell_type": "code",
      "metadata": {
        "id": "psEUr70lj88S",
        "colab_type": "code",
        "colab": {
          "base_uri": "https://localhost:8080/",
          "height": 51
        },
        "outputId": "81026656-2094-4987-ac3b-74146566e96e"
      },
      "source": [
        "myname = input('guess my name')\n",
        "if myname=='ramandeep':\n",
        "    print('Asum you are first one! got my name correct')\n",
        "else:\n",
        "    print('opps! guess one more time')"
      ],
      "execution_count": null,
      "outputs": [
        {
          "output_type": "stream",
          "text": [
            "guess my namemona\n",
            "opps! guess one more time\n"
          ],
          "name": "stdout"
        }
      ]
    },
    {
      "cell_type": "code",
      "metadata": {
        "id": "lyFx9o9XmPuO",
        "colab_type": "code",
        "colab": {
          "base_uri": "https://localhost:8080/",
          "height": 85
        },
        "outputId": "6ee96b21-716b-46c4-8dd7-76035124c9ec"
      },
      "source": [
        "yourName = input('Please enter your name')\n",
        "yourAge = input('Please enter your age')\n",
        "yourAge = int(yourAge)  #convert it into int to use it later \n",
        "yourBrotherAge = input('Please enter your brother age')\n",
        "yourBrotherAge = int(yourBrotherAge)\n",
        "total = yourAge + yourBrotherAge\n",
        "print('Total of my age and my brother age', total)"
      ],
      "execution_count": null,
      "outputs": [
        {
          "output_type": "stream",
          "text": [
            "Please enter your nameramandeep\n",
            "Please enter your age29\n",
            "Please enter your brother age23\n",
            "Total of my age and my brother age 52\n"
          ],
          "name": "stdout"
        }
      ]
    },
    {
      "cell_type": "markdown",
      "metadata": {
        "id": "gOkfa4FvoLJI",
        "colab_type": "text"
      },
      "source": [
        "Let's do cash price example;"
      ]
    },
    {
      "cell_type": "code",
      "metadata": {
        "id": "Lf7y-oZKoUDa",
        "colab_type": "code",
        "colab": {
          "base_uri": "https://localhost:8080/",
          "height": 102
        },
        "outputId": "d8f39f50-a83c-4272-c044-1777b0af422c"
      },
      "source": [
        "bread = input('Bread price is $')\n",
        "bread = float (bread)\n",
        "\n",
        "avacado = input('Avacado price is $')\n",
        "avacado = float (avacado)\n",
        "\n",
        "total  = bread + avacado \n",
        "\n",
        "amountGiven = input('How much customer gave $')\n",
        "amountGiven = float(amountGiven)\n",
        "\n",
        "change = amountGiven - total\n",
        "print('your change $'+str(change)) #concatenation and get rid of space\n",
        "print('total price to be paid is $'+str(total))\n",
        "\n"
      ],
      "execution_count": null,
      "outputs": [
        {
          "output_type": "stream",
          "text": [
            "Bread price is $14.00\n",
            "Avacado price is $5.00\n",
            "How much customer gave $98\n",
            "your change $79.0\n",
            "total price to be paid is $19.0\n"
          ],
          "name": "stdout"
        }
      ]
    },
    {
      "cell_type": "markdown",
      "metadata": {
        "id": "98lzVd5Hxg13",
        "colab_type": "text"
      },
      "source": [
        "Python for analysis needs all these basic fucntions, more or less is defined in libraries. You don't have to define function that often. "
      ]
    },
    {
      "cell_type": "markdown",
      "metadata": {
        "id": "N_Wy_SJS5eI5",
        "colab_type": "text"
      },
      "source": [
        "Let's do some statistics using python."
      ]
    },
    {
      "cell_type": "code",
      "metadata": {
        "id": "vvAd9RMQ5jQK",
        "colab_type": "code",
        "colab": {}
      },
      "source": [
        "data = [11,17,8,5,9,33,77,99]"
      ],
      "execution_count": null,
      "outputs": []
    },
    {
      "cell_type": "code",
      "metadata": {
        "id": "Oa4fa4Ha9-eO",
        "colab_type": "code",
        "colab": {}
      },
      "source": [
        "import pandas as pd \n",
        "import numpy as np"
      ],
      "execution_count": null,
      "outputs": []
    },
    {
      "cell_type": "code",
      "metadata": {
        "id": "84LLPThw-_gs",
        "colab_type": "code",
        "colab": {
          "base_uri": "https://localhost:8080/",
          "height": 297
        },
        "outputId": "973a0d7a-1e40-44b0-c2f5-f41177d54ecc"
      },
      "source": [
        "df = pd.DataFrame(data)\n",
        "df"
      ],
      "execution_count": null,
      "outputs": [
        {
          "output_type": "execute_result",
          "data": {
            "text/html": [
              "<div>\n",
              "<style scoped>\n",
              "    .dataframe tbody tr th:only-of-type {\n",
              "        vertical-align: middle;\n",
              "    }\n",
              "\n",
              "    .dataframe tbody tr th {\n",
              "        vertical-align: top;\n",
              "    }\n",
              "\n",
              "    .dataframe thead th {\n",
              "        text-align: right;\n",
              "    }\n",
              "</style>\n",
              "<table border=\"1\" class=\"dataframe\">\n",
              "  <thead>\n",
              "    <tr style=\"text-align: right;\">\n",
              "      <th></th>\n",
              "      <th>0</th>\n",
              "    </tr>\n",
              "  </thead>\n",
              "  <tbody>\n",
              "    <tr>\n",
              "      <th>0</th>\n",
              "      <td>11</td>\n",
              "    </tr>\n",
              "    <tr>\n",
              "      <th>1</th>\n",
              "      <td>17</td>\n",
              "    </tr>\n",
              "    <tr>\n",
              "      <th>2</th>\n",
              "      <td>8</td>\n",
              "    </tr>\n",
              "    <tr>\n",
              "      <th>3</th>\n",
              "      <td>5</td>\n",
              "    </tr>\n",
              "    <tr>\n",
              "      <th>4</th>\n",
              "      <td>9</td>\n",
              "    </tr>\n",
              "    <tr>\n",
              "      <th>5</th>\n",
              "      <td>33</td>\n",
              "    </tr>\n",
              "    <tr>\n",
              "      <th>6</th>\n",
              "      <td>77</td>\n",
              "    </tr>\n",
              "    <tr>\n",
              "      <th>7</th>\n",
              "      <td>99</td>\n",
              "    </tr>\n",
              "  </tbody>\n",
              "</table>\n",
              "</div>"
            ],
            "text/plain": [
              "    0\n",
              "0  11\n",
              "1  17\n",
              "2   8\n",
              "3   5\n",
              "4   9\n",
              "5  33\n",
              "6  77\n",
              "7  99"
            ]
          },
          "metadata": {
            "tags": []
          },
          "execution_count": 46
        }
      ]
    },
    {
      "cell_type": "code",
      "metadata": {
        "id": "YnV7edfO_ZXk",
        "colab_type": "code",
        "colab": {
          "base_uri": "https://localhost:8080/",
          "height": 297
        },
        "outputId": "c39d292f-a1b2-477c-de99-4f40b3c6b0e3"
      },
      "source": [
        "df.describe()"
      ],
      "execution_count": null,
      "outputs": [
        {
          "output_type": "execute_result",
          "data": {
            "text/html": [
              "<div>\n",
              "<style scoped>\n",
              "    .dataframe tbody tr th:only-of-type {\n",
              "        vertical-align: middle;\n",
              "    }\n",
              "\n",
              "    .dataframe tbody tr th {\n",
              "        vertical-align: top;\n",
              "    }\n",
              "\n",
              "    .dataframe thead th {\n",
              "        text-align: right;\n",
              "    }\n",
              "</style>\n",
              "<table border=\"1\" class=\"dataframe\">\n",
              "  <thead>\n",
              "    <tr style=\"text-align: right;\">\n",
              "      <th></th>\n",
              "      <th>0</th>\n",
              "    </tr>\n",
              "  </thead>\n",
              "  <tbody>\n",
              "    <tr>\n",
              "      <th>count</th>\n",
              "      <td>8.000000</td>\n",
              "    </tr>\n",
              "    <tr>\n",
              "      <th>mean</th>\n",
              "      <td>32.375000</td>\n",
              "    </tr>\n",
              "    <tr>\n",
              "      <th>std</th>\n",
              "      <td>35.884487</td>\n",
              "    </tr>\n",
              "    <tr>\n",
              "      <th>min</th>\n",
              "      <td>5.000000</td>\n",
              "    </tr>\n",
              "    <tr>\n",
              "      <th>25%</th>\n",
              "      <td>8.750000</td>\n",
              "    </tr>\n",
              "    <tr>\n",
              "      <th>50%</th>\n",
              "      <td>14.000000</td>\n",
              "    </tr>\n",
              "    <tr>\n",
              "      <th>75%</th>\n",
              "      <td>44.000000</td>\n",
              "    </tr>\n",
              "    <tr>\n",
              "      <th>max</th>\n",
              "      <td>99.000000</td>\n",
              "    </tr>\n",
              "  </tbody>\n",
              "</table>\n",
              "</div>"
            ],
            "text/plain": [
              "               0\n",
              "count   8.000000\n",
              "mean   32.375000\n",
              "std    35.884487\n",
              "min     5.000000\n",
              "25%     8.750000\n",
              "50%    14.000000\n",
              "75%    44.000000\n",
              "max    99.000000"
            ]
          },
          "metadata": {
            "tags": []
          },
          "execution_count": 47
        }
      ]
    },
    {
      "cell_type": "markdown",
      "metadata": {
        "id": "kLTO7M1mA8u4",
        "colab_type": "text"
      },
      "source": [
        "List: Data structures are containers that organize and group data types together in different ways. A list is one of the most common and basic data structures in Python. List starts with zero and defines last element as -1. Let's create a simple list with funtion range; "
      ]
    },
    {
      "cell_type": "code",
      "metadata": {
        "id": "9OQgJQI9Awdr",
        "colab_type": "code",
        "colab": {
          "base_uri": "https://localhost:8080/",
          "height": 34
        },
        "outputId": "756c86b0-5d8c-4b76-af95-334b232846b0"
      },
      "source": [
        "list(range(10))"
      ],
      "execution_count": null,
      "outputs": [
        {
          "output_type": "execute_result",
          "data": {
            "text/plain": [
              "[0, 1, 2, 3, 4, 5, 6, 7, 8, 9]"
            ]
          },
          "metadata": {
            "tags": []
          },
          "execution_count": 50
        }
      ]
    },
    {
      "cell_type": "markdown",
      "metadata": {
        "id": "5URFEUbYBZKV",
        "colab_type": "text"
      },
      "source": [
        "List can be of random variables;"
      ]
    },
    {
      "cell_type": "code",
      "metadata": {
        "id": "d2ir74KiBedd",
        "colab_type": "code",
        "colab": {
          "base_uri": "https://localhost:8080/",
          "height": 34
        },
        "outputId": "575feb73-05c8-4f25-d8d0-8ef5af816404"
      },
      "source": [
        "list_of_random_things = [1, 3.4, 'a string', True]\n",
        "list_of_random_things"
      ],
      "execution_count": null,
      "outputs": [
        {
          "output_type": "execute_result",
          "data": {
            "text/plain": [
              "[1, 3.4, 'a string', True]"
            ]
          },
          "metadata": {
            "tags": []
          },
          "execution_count": 52
        }
      ]
    },
    {
      "cell_type": "markdown",
      "metadata": {
        "id": "4CxmsSpsBp-Y",
        "colab_type": "text"
      },
      "source": [
        "Mutability and Order Mutability is about whether or not we can change an object once it has been created. If an object (like a list or string) can be changed (like a list can), then it is called mutable. However, if an object cannot be changed with creating a completely new object (like strings), then the object is considered immutable. Most of the time intergers list is mutable and we can overwrite the other values on same data or arrray. Example."
      ]
    },
    {
      "cell_type": "code",
      "metadata": {
        "id": "86LDP2ZbDYlV",
        "colab_type": "code",
        "colab": {
          "base_uri": "https://localhost:8080/",
          "height": 34
        },
        "outputId": "e87e2b7b-62aa-40ad-abcb-c32d33423a96"
      },
      "source": [
        "x = [4,5,8,9]\n",
        "x"
      ],
      "execution_count": null,
      "outputs": [
        {
          "output_type": "execute_result",
          "data": {
            "text/plain": [
              "[4, 5, 8, 9]"
            ]
          },
          "metadata": {
            "tags": []
          },
          "execution_count": 54
        }
      ]
    },
    {
      "cell_type": "code",
      "metadata": {
        "id": "yAk_DfKHDdzy",
        "colab_type": "code",
        "colab": {
          "base_uri": "https://localhost:8080/",
          "height": 34
        },
        "outputId": "3d6fdccf-07a7-4985-9b5a-8b0bd592fefc"
      },
      "source": [
        "x= [3,6,9,12]\n",
        "x"
      ],
      "execution_count": null,
      "outputs": [
        {
          "output_type": "execute_result",
          "data": {
            "text/plain": [
              "[3, 6, 9, 12]"
            ]
          },
          "metadata": {
            "tags": []
          },
          "execution_count": 55
        }
      ]
    },
    {
      "cell_type": "markdown",
      "metadata": {
        "id": "ss0dxqdDEV0B",
        "colab_type": "text"
      },
      "source": [
        "There are different libraries in the python for data analysis and let's get familiar with them. \n",
        "\n",
        "Pandas library is mostly used for loading the most types of the data in different formats. Data can be available in any format, csv, text files, json, HTML, opendoc spreadsheet, binary excel, clipboard, pickling, msgpack, HDFS, feather, parquet, sql queries, googleBig Query, Stata format, SAS formats, SPSS formats, and other file formats. Please visit [here](https://pandas.pydata.org/docs/user_guide/index.html)  to load each type of data. \n",
        "\n",
        "There are other functions of the Pandas is; \n",
        "\n",
        "Indexing and selecting data, MultiIndex/advanced indexing, merge, join, concatenate, reshaping and pivot tables, working with text data, working with missing data, categorical data, nullable integer data type, nullable bollean data types, visualization, computational tools, in data frame - pandas give option for split, apply, combine, data functionlity, time series, time deltas, scaling to large datasets. Let's get familair with intro of Pandas. \n",
        "\n",
        "Reference \n",
        "\n",
        "Pandas. (n.d.). User guide. Official pandas website. Retreive from https://pandas.pydata.org/docs/user_guide/index.html\n",
        "\n",
        "Source code\n",
        "\n",
        "Pandas. (n.d.). 10 minute to Pandas. Official pandas website. Retreive from https://pandas.pydata.org/docs/getting_started/10min.html#min"
      ]
    },
    {
      "cell_type": "code",
      "metadata": {
        "id": "XPXKhfukLTt8",
        "colab_type": "code",
        "colab": {}
      },
      "source": [
        "import numpy as np\n",
        "import pandas as pd"
      ],
      "execution_count": null,
      "outputs": []
    },
    {
      "cell_type": "code",
      "metadata": {
        "id": "EFBvj90ELa43",
        "colab_type": "code",
        "colab": {
          "base_uri": "https://localhost:8080/",
          "height": 136
        },
        "outputId": "bdccc21e-db4f-4007-a812-1824ac90baca"
      },
      "source": [
        "s = pd.Series([1, 3, 5, np.nan, 6, 8])       #create the data (data could be of any type)\n",
        "s"
      ],
      "execution_count": null,
      "outputs": [
        {
          "output_type": "execute_result",
          "data": {
            "text/plain": [
              "0    1.0\n",
              "1    3.0\n",
              "2    5.0\n",
              "3    NaN\n",
              "4    6.0\n",
              "5    8.0\n",
              "dtype: float64"
            ]
          },
          "metadata": {
            "tags": []
          },
          "execution_count": 61
        }
      ]
    },
    {
      "cell_type": "code",
      "metadata": {
        "id": "dYx1cYwsL6d2",
        "colab_type": "code",
        "colab": {
          "base_uri": "https://localhost:8080/",
          "height": 68
        },
        "outputId": "8116044e-49c8-4496-eb39-ac1f83977666"
      },
      "source": [
        "dates = pd.date_range('20200607', periods=6) #to get the specific range, pass the value where you want to stop the series of range at 0 to 5 (total=6)\n",
        "dates"
      ],
      "execution_count": null,
      "outputs": [
        {
          "output_type": "execute_result",
          "data": {
            "text/plain": [
              "DatetimeIndex(['2020-06-07', '2020-06-08', '2020-06-09', '2020-06-10',\n",
              "               '2020-06-11', '2020-06-12'],\n",
              "              dtype='datetime64[ns]', freq='D')"
            ]
          },
          "metadata": {
            "tags": []
          },
          "execution_count": 64
        }
      ]
    },
    {
      "cell_type": "code",
      "metadata": {
        "id": "q3CWJDneMfIY",
        "colab_type": "code",
        "colab": {
          "base_uri": "https://localhost:8080/",
          "height": 235
        },
        "outputId": "eb01436e-7afa-413c-e12e-baeb252d0cc1"
      },
      "source": [
        "df = pd.DataFrame(np.random.randn(6, 4), index=dates, columns=list('ABCD')) #create the dataframe by passing numpy array with datetime index, label col\n",
        "df"
      ],
      "execution_count": null,
      "outputs": [
        {
          "output_type": "execute_result",
          "data": {
            "text/html": [
              "<div>\n",
              "<style scoped>\n",
              "    .dataframe tbody tr th:only-of-type {\n",
              "        vertical-align: middle;\n",
              "    }\n",
              "\n",
              "    .dataframe tbody tr th {\n",
              "        vertical-align: top;\n",
              "    }\n",
              "\n",
              "    .dataframe thead th {\n",
              "        text-align: right;\n",
              "    }\n",
              "</style>\n",
              "<table border=\"1\" class=\"dataframe\">\n",
              "  <thead>\n",
              "    <tr style=\"text-align: right;\">\n",
              "      <th></th>\n",
              "      <th>A</th>\n",
              "      <th>B</th>\n",
              "      <th>C</th>\n",
              "      <th>D</th>\n",
              "    </tr>\n",
              "  </thead>\n",
              "  <tbody>\n",
              "    <tr>\n",
              "      <th>2020-06-07</th>\n",
              "      <td>-1.109002</td>\n",
              "      <td>-1.160916</td>\n",
              "      <td>0.815969</td>\n",
              "      <td>-0.514779</td>\n",
              "    </tr>\n",
              "    <tr>\n",
              "      <th>2020-06-08</th>\n",
              "      <td>0.584084</td>\n",
              "      <td>0.205822</td>\n",
              "      <td>-0.967518</td>\n",
              "      <td>-0.374997</td>\n",
              "    </tr>\n",
              "    <tr>\n",
              "      <th>2020-06-09</th>\n",
              "      <td>-1.590042</td>\n",
              "      <td>-0.856249</td>\n",
              "      <td>-1.991274</td>\n",
              "      <td>-2.810440</td>\n",
              "    </tr>\n",
              "    <tr>\n",
              "      <th>2020-06-10</th>\n",
              "      <td>1.157251</td>\n",
              "      <td>1.455518</td>\n",
              "      <td>1.557631</td>\n",
              "      <td>-0.321652</td>\n",
              "    </tr>\n",
              "    <tr>\n",
              "      <th>2020-06-11</th>\n",
              "      <td>-0.076257</td>\n",
              "      <td>0.012141</td>\n",
              "      <td>0.051222</td>\n",
              "      <td>-0.164075</td>\n",
              "    </tr>\n",
              "    <tr>\n",
              "      <th>2020-06-12</th>\n",
              "      <td>-2.010270</td>\n",
              "      <td>0.384734</td>\n",
              "      <td>-0.953955</td>\n",
              "      <td>2.037770</td>\n",
              "    </tr>\n",
              "  </tbody>\n",
              "</table>\n",
              "</div>"
            ],
            "text/plain": [
              "                   A         B         C         D\n",
              "2020-06-07 -1.109002 -1.160916  0.815969 -0.514779\n",
              "2020-06-08  0.584084  0.205822 -0.967518 -0.374997\n",
              "2020-06-09 -1.590042 -0.856249 -1.991274 -2.810440\n",
              "2020-06-10  1.157251  1.455518  1.557631 -0.321652\n",
              "2020-06-11 -0.076257  0.012141  0.051222 -0.164075\n",
              "2020-06-12 -2.010270  0.384734 -0.953955  2.037770"
            ]
          },
          "metadata": {
            "tags": []
          },
          "execution_count": 66
        }
      ]
    },
    {
      "cell_type": "code",
      "metadata": {
        "id": "IwnUKNDvNYZ0",
        "colab_type": "code",
        "colab": {
          "base_uri": "https://localhost:8080/",
          "height": 204
        },
        "outputId": "c2f04627-5097-409a-f682-3ec6133cfa51"
      },
      "source": [
        "df.head() #head return first 5 rows of the dataset"
      ],
      "execution_count": null,
      "outputs": [
        {
          "output_type": "execute_result",
          "data": {
            "text/html": [
              "<div>\n",
              "<style scoped>\n",
              "    .dataframe tbody tr th:only-of-type {\n",
              "        vertical-align: middle;\n",
              "    }\n",
              "\n",
              "    .dataframe tbody tr th {\n",
              "        vertical-align: top;\n",
              "    }\n",
              "\n",
              "    .dataframe thead th {\n",
              "        text-align: right;\n",
              "    }\n",
              "</style>\n",
              "<table border=\"1\" class=\"dataframe\">\n",
              "  <thead>\n",
              "    <tr style=\"text-align: right;\">\n",
              "      <th></th>\n",
              "      <th>A</th>\n",
              "      <th>B</th>\n",
              "      <th>C</th>\n",
              "      <th>D</th>\n",
              "    </tr>\n",
              "  </thead>\n",
              "  <tbody>\n",
              "    <tr>\n",
              "      <th>2020-06-07</th>\n",
              "      <td>-1.109002</td>\n",
              "      <td>-1.160916</td>\n",
              "      <td>0.815969</td>\n",
              "      <td>-0.514779</td>\n",
              "    </tr>\n",
              "    <tr>\n",
              "      <th>2020-06-08</th>\n",
              "      <td>0.584084</td>\n",
              "      <td>0.205822</td>\n",
              "      <td>-0.967518</td>\n",
              "      <td>-0.374997</td>\n",
              "    </tr>\n",
              "    <tr>\n",
              "      <th>2020-06-09</th>\n",
              "      <td>-1.590042</td>\n",
              "      <td>-0.856249</td>\n",
              "      <td>-1.991274</td>\n",
              "      <td>-2.810440</td>\n",
              "    </tr>\n",
              "    <tr>\n",
              "      <th>2020-06-10</th>\n",
              "      <td>1.157251</td>\n",
              "      <td>1.455518</td>\n",
              "      <td>1.557631</td>\n",
              "      <td>-0.321652</td>\n",
              "    </tr>\n",
              "    <tr>\n",
              "      <th>2020-06-11</th>\n",
              "      <td>-0.076257</td>\n",
              "      <td>0.012141</td>\n",
              "      <td>0.051222</td>\n",
              "      <td>-0.164075</td>\n",
              "    </tr>\n",
              "  </tbody>\n",
              "</table>\n",
              "</div>"
            ],
            "text/plain": [
              "                   A         B         C         D\n",
              "2020-06-07 -1.109002 -1.160916  0.815969 -0.514779\n",
              "2020-06-08  0.584084  0.205822 -0.967518 -0.374997\n",
              "2020-06-09 -1.590042 -0.856249 -1.991274 -2.810440\n",
              "2020-06-10  1.157251  1.455518  1.557631 -0.321652\n",
              "2020-06-11 -0.076257  0.012141  0.051222 -0.164075"
            ]
          },
          "metadata": {
            "tags": []
          },
          "execution_count": 67
        }
      ]
    },
    {
      "cell_type": "code",
      "metadata": {
        "id": "LKsoduhxNja6",
        "colab_type": "code",
        "colab": {
          "base_uri": "https://localhost:8080/",
          "height": 204
        },
        "outputId": "14073038-649c-467f-feb5-492ac621be14"
      },
      "source": [
        "df.tail() #return last 5 rows of the dataset"
      ],
      "execution_count": null,
      "outputs": [
        {
          "output_type": "execute_result",
          "data": {
            "text/html": [
              "<div>\n",
              "<style scoped>\n",
              "    .dataframe tbody tr th:only-of-type {\n",
              "        vertical-align: middle;\n",
              "    }\n",
              "\n",
              "    .dataframe tbody tr th {\n",
              "        vertical-align: top;\n",
              "    }\n",
              "\n",
              "    .dataframe thead th {\n",
              "        text-align: right;\n",
              "    }\n",
              "</style>\n",
              "<table border=\"1\" class=\"dataframe\">\n",
              "  <thead>\n",
              "    <tr style=\"text-align: right;\">\n",
              "      <th></th>\n",
              "      <th>A</th>\n",
              "      <th>B</th>\n",
              "      <th>C</th>\n",
              "      <th>D</th>\n",
              "    </tr>\n",
              "  </thead>\n",
              "  <tbody>\n",
              "    <tr>\n",
              "      <th>2020-06-08</th>\n",
              "      <td>0.584084</td>\n",
              "      <td>0.205822</td>\n",
              "      <td>-0.967518</td>\n",
              "      <td>-0.374997</td>\n",
              "    </tr>\n",
              "    <tr>\n",
              "      <th>2020-06-09</th>\n",
              "      <td>-1.590042</td>\n",
              "      <td>-0.856249</td>\n",
              "      <td>-1.991274</td>\n",
              "      <td>-2.810440</td>\n",
              "    </tr>\n",
              "    <tr>\n",
              "      <th>2020-06-10</th>\n",
              "      <td>1.157251</td>\n",
              "      <td>1.455518</td>\n",
              "      <td>1.557631</td>\n",
              "      <td>-0.321652</td>\n",
              "    </tr>\n",
              "    <tr>\n",
              "      <th>2020-06-11</th>\n",
              "      <td>-0.076257</td>\n",
              "      <td>0.012141</td>\n",
              "      <td>0.051222</td>\n",
              "      <td>-0.164075</td>\n",
              "    </tr>\n",
              "    <tr>\n",
              "      <th>2020-06-12</th>\n",
              "      <td>-2.010270</td>\n",
              "      <td>0.384734</td>\n",
              "      <td>-0.953955</td>\n",
              "      <td>2.037770</td>\n",
              "    </tr>\n",
              "  </tbody>\n",
              "</table>\n",
              "</div>"
            ],
            "text/plain": [
              "                   A         B         C         D\n",
              "2020-06-08  0.584084  0.205822 -0.967518 -0.374997\n",
              "2020-06-09 -1.590042 -0.856249 -1.991274 -2.810440\n",
              "2020-06-10  1.157251  1.455518  1.557631 -0.321652\n",
              "2020-06-11 -0.076257  0.012141  0.051222 -0.164075\n",
              "2020-06-12 -2.010270  0.384734 -0.953955  2.037770"
            ]
          },
          "metadata": {
            "tags": []
          },
          "execution_count": 68
        }
      ]
    },
    {
      "cell_type": "code",
      "metadata": {
        "id": "BjKCTQVVNv-3",
        "colab_type": "code",
        "colab": {
          "base_uri": "https://localhost:8080/",
          "height": 68
        },
        "outputId": "c049c50f-adcb-479c-97d4-5d0a501904b7"
      },
      "source": [
        "df.index #display index column"
      ],
      "execution_count": null,
      "outputs": [
        {
          "output_type": "execute_result",
          "data": {
            "text/plain": [
              "DatetimeIndex(['2020-06-07', '2020-06-08', '2020-06-09', '2020-06-10',\n",
              "               '2020-06-11', '2020-06-12'],\n",
              "              dtype='datetime64[ns]', freq='D')"
            ]
          },
          "metadata": {
            "tags": []
          },
          "execution_count": 69
        }
      ]
    },
    {
      "cell_type": "code",
      "metadata": {
        "id": "KZcSTdvoN47i",
        "colab_type": "code",
        "colab": {
          "base_uri": "https://localhost:8080/",
          "height": 34
        },
        "outputId": "2a6ce9db-126c-4d1e-cb74-29049b670da9"
      },
      "source": [
        "df.columns #name of the columns"
      ],
      "execution_count": null,
      "outputs": [
        {
          "output_type": "execute_result",
          "data": {
            "text/plain": [
              "Index(['A', 'B', 'C', 'D'], dtype='object')"
            ]
          },
          "metadata": {
            "tags": []
          },
          "execution_count": 70
        }
      ]
    },
    {
      "cell_type": "code",
      "metadata": {
        "id": "_ju2qpaHOBiY",
        "colab_type": "code",
        "colab": {
          "base_uri": "https://localhost:8080/",
          "height": 119
        },
        "outputId": "ede6bbca-435a-48c9-e3c7-e763e9e67447"
      },
      "source": [
        "df.to_numpy()  #get you all floating values "
      ],
      "execution_count": null,
      "outputs": [
        {
          "output_type": "execute_result",
          "data": {
            "text/plain": [
              "array([[-1.10900248, -1.16091575,  0.81596917, -0.51477908],\n",
              "       [ 0.58408437,  0.20582166, -0.96751777, -0.37499738],\n",
              "       [-1.5900423 , -0.8562486 , -1.99127399, -2.8104403 ],\n",
              "       [ 1.15725104,  1.45551772,  1.55763097, -0.32165157],\n",
              "       [-0.07625735,  0.01214063,  0.05122151, -0.16407515],\n",
              "       [-2.01027045,  0.38473432, -0.95395476,  2.03777038]])"
            ]
          },
          "metadata": {
            "tags": []
          },
          "execution_count": 71
        }
      ]
    },
    {
      "cell_type": "code",
      "metadata": {
        "id": "pbSeAH4VUV1t",
        "colab_type": "code",
        "colab": {
          "base_uri": "https://localhost:8080/",
          "height": 173
        },
        "outputId": "6619386b-2479-4314-c034-9b28c7d7966f"
      },
      "source": [
        "df2 = pd.DataFrame({'A': 1.,\n",
        "                    'B': pd.Timestamp('20200607'),\n",
        "                    'C': pd.Series(1, index=list(range(4)), dtype='float32'),\n",
        "                    'D': np.array([3] * 4, dtype='int32'),\n",
        "                    'E': pd.Categorical([\"test\", \"train\", \"test\", \"train\"]),\n",
        "                    'F': 'foo'})\n",
        "\n",
        "df2"
      ],
      "execution_count": null,
      "outputs": [
        {
          "output_type": "execute_result",
          "data": {
            "text/html": [
              "<div>\n",
              "<style scoped>\n",
              "    .dataframe tbody tr th:only-of-type {\n",
              "        vertical-align: middle;\n",
              "    }\n",
              "\n",
              "    .dataframe tbody tr th {\n",
              "        vertical-align: top;\n",
              "    }\n",
              "\n",
              "    .dataframe thead th {\n",
              "        text-align: right;\n",
              "    }\n",
              "</style>\n",
              "<table border=\"1\" class=\"dataframe\">\n",
              "  <thead>\n",
              "    <tr style=\"text-align: right;\">\n",
              "      <th></th>\n",
              "      <th>A</th>\n",
              "      <th>B</th>\n",
              "      <th>C</th>\n",
              "      <th>D</th>\n",
              "      <th>E</th>\n",
              "      <th>F</th>\n",
              "    </tr>\n",
              "  </thead>\n",
              "  <tbody>\n",
              "    <tr>\n",
              "      <th>0</th>\n",
              "      <td>1.0</td>\n",
              "      <td>2020-06-07</td>\n",
              "      <td>1.0</td>\n",
              "      <td>3</td>\n",
              "      <td>test</td>\n",
              "      <td>foo</td>\n",
              "    </tr>\n",
              "    <tr>\n",
              "      <th>1</th>\n",
              "      <td>1.0</td>\n",
              "      <td>2020-06-07</td>\n",
              "      <td>1.0</td>\n",
              "      <td>3</td>\n",
              "      <td>train</td>\n",
              "      <td>foo</td>\n",
              "    </tr>\n",
              "    <tr>\n",
              "      <th>2</th>\n",
              "      <td>1.0</td>\n",
              "      <td>2020-06-07</td>\n",
              "      <td>1.0</td>\n",
              "      <td>3</td>\n",
              "      <td>test</td>\n",
              "      <td>foo</td>\n",
              "    </tr>\n",
              "    <tr>\n",
              "      <th>3</th>\n",
              "      <td>1.0</td>\n",
              "      <td>2020-06-07</td>\n",
              "      <td>1.0</td>\n",
              "      <td>3</td>\n",
              "      <td>train</td>\n",
              "      <td>foo</td>\n",
              "    </tr>\n",
              "  </tbody>\n",
              "</table>\n",
              "</div>"
            ],
            "text/plain": [
              "     A          B    C  D      E    F\n",
              "0  1.0 2020-06-07  1.0  3   test  foo\n",
              "1  1.0 2020-06-07  1.0  3  train  foo\n",
              "2  1.0 2020-06-07  1.0  3   test  foo\n",
              "3  1.0 2020-06-07  1.0  3  train  foo"
            ]
          },
          "metadata": {
            "tags": []
          },
          "execution_count": 75
        }
      ]
    },
    {
      "cell_type": "code",
      "metadata": {
        "id": "YUXQ6DpUVAnZ",
        "colab_type": "code",
        "colab": {
          "base_uri": "https://localhost:8080/",
          "height": 136
        },
        "outputId": "9f4a03c2-e766-4def-fa60-c6c6e9c76a8b"
      },
      "source": [
        "df2.dtypes"
      ],
      "execution_count": null,
      "outputs": [
        {
          "output_type": "execute_result",
          "data": {
            "text/plain": [
              "A           float64\n",
              "B    datetime64[ns]\n",
              "C           float32\n",
              "D             int32\n",
              "E          category\n",
              "F            object\n",
              "dtype: object"
            ]
          },
          "metadata": {
            "tags": []
          },
          "execution_count": 76
        }
      ]
    },
    {
      "cell_type": "code",
      "metadata": {
        "id": "_uE_UscBVDE5",
        "colab_type": "code",
        "colab": {
          "base_uri": "https://localhost:8080/",
          "height": 102
        },
        "outputId": "d44b2339-c2ca-431d-c614-5504019ab2ab"
      },
      "source": [
        "df2.to_numpy()"
      ],
      "execution_count": null,
      "outputs": [
        {
          "output_type": "execute_result",
          "data": {
            "text/plain": [
              "array([[1.0, Timestamp('2020-06-07 00:00:00'), 1.0, 3, 'test', 'foo'],\n",
              "       [1.0, Timestamp('2020-06-07 00:00:00'), 1.0, 3, 'train', 'foo'],\n",
              "       [1.0, Timestamp('2020-06-07 00:00:00'), 1.0, 3, 'test', 'foo'],\n",
              "       [1.0, Timestamp('2020-06-07 00:00:00'), 1.0, 3, 'train', 'foo']],\n",
              "      dtype=object)"
            ]
          },
          "metadata": {
            "tags": []
          },
          "execution_count": 77
        }
      ]
    },
    {
      "cell_type": "code",
      "metadata": {
        "id": "uyb4P08wVdey",
        "colab_type": "code",
        "colab": {
          "base_uri": "https://localhost:8080/",
          "height": 297
        },
        "outputId": "9b1e2cec-929a-481b-df40-3803751d10ae"
      },
      "source": [
        "df.describe()"
      ],
      "execution_count": null,
      "outputs": [
        {
          "output_type": "execute_result",
          "data": {
            "text/html": [
              "<div>\n",
              "<style scoped>\n",
              "    .dataframe tbody tr th:only-of-type {\n",
              "        vertical-align: middle;\n",
              "    }\n",
              "\n",
              "    .dataframe tbody tr th {\n",
              "        vertical-align: top;\n",
              "    }\n",
              "\n",
              "    .dataframe thead th {\n",
              "        text-align: right;\n",
              "    }\n",
              "</style>\n",
              "<table border=\"1\" class=\"dataframe\">\n",
              "  <thead>\n",
              "    <tr style=\"text-align: right;\">\n",
              "      <th></th>\n",
              "      <th>A</th>\n",
              "      <th>B</th>\n",
              "      <th>C</th>\n",
              "      <th>D</th>\n",
              "    </tr>\n",
              "  </thead>\n",
              "  <tbody>\n",
              "    <tr>\n",
              "      <th>count</th>\n",
              "      <td>6.000000</td>\n",
              "      <td>6.000000</td>\n",
              "      <td>6.000000</td>\n",
              "      <td>6.000000</td>\n",
              "    </tr>\n",
              "    <tr>\n",
              "      <th>mean</th>\n",
              "      <td>-0.507373</td>\n",
              "      <td>0.006842</td>\n",
              "      <td>-0.247987</td>\n",
              "      <td>-0.358029</td>\n",
              "    </tr>\n",
              "    <tr>\n",
              "      <th>std</th>\n",
              "      <td>1.260234</td>\n",
              "      <td>0.936981</td>\n",
              "      <td>1.306671</td>\n",
              "      <td>1.537399</td>\n",
              "    </tr>\n",
              "    <tr>\n",
              "      <th>min</th>\n",
              "      <td>-2.010270</td>\n",
              "      <td>-1.160916</td>\n",
              "      <td>-1.991274</td>\n",
              "      <td>-2.810440</td>\n",
              "    </tr>\n",
              "    <tr>\n",
              "      <th>25%</th>\n",
              "      <td>-1.469782</td>\n",
              "      <td>-0.639151</td>\n",
              "      <td>-0.964127</td>\n",
              "      <td>-0.479834</td>\n",
              "    </tr>\n",
              "    <tr>\n",
              "      <th>50%</th>\n",
              "      <td>-0.592630</td>\n",
              "      <td>0.108981</td>\n",
              "      <td>-0.451367</td>\n",
              "      <td>-0.348324</td>\n",
              "    </tr>\n",
              "    <tr>\n",
              "      <th>75%</th>\n",
              "      <td>0.418999</td>\n",
              "      <td>0.340006</td>\n",
              "      <td>0.624782</td>\n",
              "      <td>-0.203469</td>\n",
              "    </tr>\n",
              "    <tr>\n",
              "      <th>max</th>\n",
              "      <td>1.157251</td>\n",
              "      <td>1.455518</td>\n",
              "      <td>1.557631</td>\n",
              "      <td>2.037770</td>\n",
              "    </tr>\n",
              "  </tbody>\n",
              "</table>\n",
              "</div>"
            ],
            "text/plain": [
              "              A         B         C         D\n",
              "count  6.000000  6.000000  6.000000  6.000000\n",
              "mean  -0.507373  0.006842 -0.247987 -0.358029\n",
              "std    1.260234  0.936981  1.306671  1.537399\n",
              "min   -2.010270 -1.160916 -1.991274 -2.810440\n",
              "25%   -1.469782 -0.639151 -0.964127 -0.479834\n",
              "50%   -0.592630  0.108981 -0.451367 -0.348324\n",
              "75%    0.418999  0.340006  0.624782 -0.203469\n",
              "max    1.157251  1.455518  1.557631  2.037770"
            ]
          },
          "metadata": {
            "tags": []
          },
          "execution_count": 78
        }
      ]
    },
    {
      "cell_type": "code",
      "metadata": {
        "id": "kv0M3JDXVjJa",
        "colab_type": "code",
        "colab": {
          "base_uri": "https://localhost:8080/",
          "height": 173
        },
        "outputId": "8f943110-651d-4f21-9749-a894f6fb95ed"
      },
      "source": [
        "df.T  #transposing the data"
      ],
      "execution_count": null,
      "outputs": [
        {
          "output_type": "execute_result",
          "data": {
            "text/html": [
              "<div>\n",
              "<style scoped>\n",
              "    .dataframe tbody tr th:only-of-type {\n",
              "        vertical-align: middle;\n",
              "    }\n",
              "\n",
              "    .dataframe tbody tr th {\n",
              "        vertical-align: top;\n",
              "    }\n",
              "\n",
              "    .dataframe thead th {\n",
              "        text-align: right;\n",
              "    }\n",
              "</style>\n",
              "<table border=\"1\" class=\"dataframe\">\n",
              "  <thead>\n",
              "    <tr style=\"text-align: right;\">\n",
              "      <th></th>\n",
              "      <th>2020-06-07</th>\n",
              "      <th>2020-06-08</th>\n",
              "      <th>2020-06-09</th>\n",
              "      <th>2020-06-10</th>\n",
              "      <th>2020-06-11</th>\n",
              "      <th>2020-06-12</th>\n",
              "    </tr>\n",
              "  </thead>\n",
              "  <tbody>\n",
              "    <tr>\n",
              "      <th>A</th>\n",
              "      <td>-1.109002</td>\n",
              "      <td>0.584084</td>\n",
              "      <td>-1.590042</td>\n",
              "      <td>1.157251</td>\n",
              "      <td>-0.076257</td>\n",
              "      <td>-2.010270</td>\n",
              "    </tr>\n",
              "    <tr>\n",
              "      <th>B</th>\n",
              "      <td>-1.160916</td>\n",
              "      <td>0.205822</td>\n",
              "      <td>-0.856249</td>\n",
              "      <td>1.455518</td>\n",
              "      <td>0.012141</td>\n",
              "      <td>0.384734</td>\n",
              "    </tr>\n",
              "    <tr>\n",
              "      <th>C</th>\n",
              "      <td>0.815969</td>\n",
              "      <td>-0.967518</td>\n",
              "      <td>-1.991274</td>\n",
              "      <td>1.557631</td>\n",
              "      <td>0.051222</td>\n",
              "      <td>-0.953955</td>\n",
              "    </tr>\n",
              "    <tr>\n",
              "      <th>D</th>\n",
              "      <td>-0.514779</td>\n",
              "      <td>-0.374997</td>\n",
              "      <td>-2.810440</td>\n",
              "      <td>-0.321652</td>\n",
              "      <td>-0.164075</td>\n",
              "      <td>2.037770</td>\n",
              "    </tr>\n",
              "  </tbody>\n",
              "</table>\n",
              "</div>"
            ],
            "text/plain": [
              "   2020-06-07  2020-06-08  2020-06-09  2020-06-10  2020-06-11  2020-06-12\n",
              "A   -1.109002    0.584084   -1.590042    1.157251   -0.076257   -2.010270\n",
              "B   -1.160916    0.205822   -0.856249    1.455518    0.012141    0.384734\n",
              "C    0.815969   -0.967518   -1.991274    1.557631    0.051222   -0.953955\n",
              "D   -0.514779   -0.374997   -2.810440   -0.321652   -0.164075    2.037770"
            ]
          },
          "metadata": {
            "tags": []
          },
          "execution_count": 79
        }
      ]
    },
    {
      "cell_type": "code",
      "metadata": {
        "id": "3hU9dGZwVrF9",
        "colab_type": "code",
        "colab": {
          "base_uri": "https://localhost:8080/",
          "height": 235
        },
        "outputId": "e5ec81d5-acd3-427e-c2f1-526a56e22d23"
      },
      "source": [
        "df.sort_index(axis=1, ascending=False) #sorting by an axis "
      ],
      "execution_count": null,
      "outputs": [
        {
          "output_type": "execute_result",
          "data": {
            "text/html": [
              "<div>\n",
              "<style scoped>\n",
              "    .dataframe tbody tr th:only-of-type {\n",
              "        vertical-align: middle;\n",
              "    }\n",
              "\n",
              "    .dataframe tbody tr th {\n",
              "        vertical-align: top;\n",
              "    }\n",
              "\n",
              "    .dataframe thead th {\n",
              "        text-align: right;\n",
              "    }\n",
              "</style>\n",
              "<table border=\"1\" class=\"dataframe\">\n",
              "  <thead>\n",
              "    <tr style=\"text-align: right;\">\n",
              "      <th></th>\n",
              "      <th>D</th>\n",
              "      <th>C</th>\n",
              "      <th>B</th>\n",
              "      <th>A</th>\n",
              "    </tr>\n",
              "  </thead>\n",
              "  <tbody>\n",
              "    <tr>\n",
              "      <th>2020-06-07</th>\n",
              "      <td>-0.514779</td>\n",
              "      <td>0.815969</td>\n",
              "      <td>-1.160916</td>\n",
              "      <td>-1.109002</td>\n",
              "    </tr>\n",
              "    <tr>\n",
              "      <th>2020-06-08</th>\n",
              "      <td>-0.374997</td>\n",
              "      <td>-0.967518</td>\n",
              "      <td>0.205822</td>\n",
              "      <td>0.584084</td>\n",
              "    </tr>\n",
              "    <tr>\n",
              "      <th>2020-06-09</th>\n",
              "      <td>-2.810440</td>\n",
              "      <td>-1.991274</td>\n",
              "      <td>-0.856249</td>\n",
              "      <td>-1.590042</td>\n",
              "    </tr>\n",
              "    <tr>\n",
              "      <th>2020-06-10</th>\n",
              "      <td>-0.321652</td>\n",
              "      <td>1.557631</td>\n",
              "      <td>1.455518</td>\n",
              "      <td>1.157251</td>\n",
              "    </tr>\n",
              "    <tr>\n",
              "      <th>2020-06-11</th>\n",
              "      <td>-0.164075</td>\n",
              "      <td>0.051222</td>\n",
              "      <td>0.012141</td>\n",
              "      <td>-0.076257</td>\n",
              "    </tr>\n",
              "    <tr>\n",
              "      <th>2020-06-12</th>\n",
              "      <td>2.037770</td>\n",
              "      <td>-0.953955</td>\n",
              "      <td>0.384734</td>\n",
              "      <td>-2.010270</td>\n",
              "    </tr>\n",
              "  </tbody>\n",
              "</table>\n",
              "</div>"
            ],
            "text/plain": [
              "                   D         C         B         A\n",
              "2020-06-07 -0.514779  0.815969 -1.160916 -1.109002\n",
              "2020-06-08 -0.374997 -0.967518  0.205822  0.584084\n",
              "2020-06-09 -2.810440 -1.991274 -0.856249 -1.590042\n",
              "2020-06-10 -0.321652  1.557631  1.455518  1.157251\n",
              "2020-06-11 -0.164075  0.051222  0.012141 -0.076257\n",
              "2020-06-12  2.037770 -0.953955  0.384734 -2.010270"
            ]
          },
          "metadata": {
            "tags": []
          },
          "execution_count": 80
        }
      ]
    },
    {
      "cell_type": "code",
      "metadata": {
        "id": "ydUqnvtPWGMD",
        "colab_type": "code",
        "colab": {
          "base_uri": "https://localhost:8080/",
          "height": 235
        },
        "outputId": "8aa5d0d3-77e8-4ace-93d9-90a60cb74ca2"
      },
      "source": [
        "df.sort_values(by='B') #sorting by values"
      ],
      "execution_count": null,
      "outputs": [
        {
          "output_type": "execute_result",
          "data": {
            "text/html": [
              "<div>\n",
              "<style scoped>\n",
              "    .dataframe tbody tr th:only-of-type {\n",
              "        vertical-align: middle;\n",
              "    }\n",
              "\n",
              "    .dataframe tbody tr th {\n",
              "        vertical-align: top;\n",
              "    }\n",
              "\n",
              "    .dataframe thead th {\n",
              "        text-align: right;\n",
              "    }\n",
              "</style>\n",
              "<table border=\"1\" class=\"dataframe\">\n",
              "  <thead>\n",
              "    <tr style=\"text-align: right;\">\n",
              "      <th></th>\n",
              "      <th>A</th>\n",
              "      <th>B</th>\n",
              "      <th>C</th>\n",
              "      <th>D</th>\n",
              "    </tr>\n",
              "  </thead>\n",
              "  <tbody>\n",
              "    <tr>\n",
              "      <th>2020-06-07</th>\n",
              "      <td>-1.109002</td>\n",
              "      <td>-1.160916</td>\n",
              "      <td>0.815969</td>\n",
              "      <td>-0.514779</td>\n",
              "    </tr>\n",
              "    <tr>\n",
              "      <th>2020-06-09</th>\n",
              "      <td>-1.590042</td>\n",
              "      <td>-0.856249</td>\n",
              "      <td>-1.991274</td>\n",
              "      <td>-2.810440</td>\n",
              "    </tr>\n",
              "    <tr>\n",
              "      <th>2020-06-11</th>\n",
              "      <td>-0.076257</td>\n",
              "      <td>0.012141</td>\n",
              "      <td>0.051222</td>\n",
              "      <td>-0.164075</td>\n",
              "    </tr>\n",
              "    <tr>\n",
              "      <th>2020-06-08</th>\n",
              "      <td>0.584084</td>\n",
              "      <td>0.205822</td>\n",
              "      <td>-0.967518</td>\n",
              "      <td>-0.374997</td>\n",
              "    </tr>\n",
              "    <tr>\n",
              "      <th>2020-06-12</th>\n",
              "      <td>-2.010270</td>\n",
              "      <td>0.384734</td>\n",
              "      <td>-0.953955</td>\n",
              "      <td>2.037770</td>\n",
              "    </tr>\n",
              "    <tr>\n",
              "      <th>2020-06-10</th>\n",
              "      <td>1.157251</td>\n",
              "      <td>1.455518</td>\n",
              "      <td>1.557631</td>\n",
              "      <td>-0.321652</td>\n",
              "    </tr>\n",
              "  </tbody>\n",
              "</table>\n",
              "</div>"
            ],
            "text/plain": [
              "                   A         B         C         D\n",
              "2020-06-07 -1.109002 -1.160916  0.815969 -0.514779\n",
              "2020-06-09 -1.590042 -0.856249 -1.991274 -2.810440\n",
              "2020-06-11 -0.076257  0.012141  0.051222 -0.164075\n",
              "2020-06-08  0.584084  0.205822 -0.967518 -0.374997\n",
              "2020-06-12 -2.010270  0.384734 -0.953955  2.037770\n",
              "2020-06-10  1.157251  1.455518  1.557631 -0.321652"
            ]
          },
          "metadata": {
            "tags": []
          },
          "execution_count": 81
        }
      ]
    },
    {
      "cell_type": "code",
      "metadata": {
        "id": "RiupBoe6WM8k",
        "colab_type": "code",
        "colab": {
          "base_uri": "https://localhost:8080/",
          "height": 136
        },
        "outputId": "9bf1a1af-0c96-4089-b012-47dc1963a60d"
      },
      "source": [
        "df['A'] #selecting column from dataframe"
      ],
      "execution_count": null,
      "outputs": [
        {
          "output_type": "execute_result",
          "data": {
            "text/plain": [
              "2020-06-07   -1.109002\n",
              "2020-06-08    0.584084\n",
              "2020-06-09   -1.590042\n",
              "2020-06-10    1.157251\n",
              "2020-06-11   -0.076257\n",
              "2020-06-12   -2.010270\n",
              "Freq: D, Name: A, dtype: float64"
            ]
          },
          "metadata": {
            "tags": []
          },
          "execution_count": 82
        }
      ]
    },
    {
      "cell_type": "code",
      "metadata": {
        "id": "6JDg3MYUWYvT",
        "colab_type": "code",
        "colab": {
          "base_uri": "https://localhost:8080/",
          "height": 142
        },
        "outputId": "94c59dd5-1d4f-41e3-d53e-97f0dbb7dc9a"
      },
      "source": [
        "df[0:3]   #[] slice the rows from 0 to 3"
      ],
      "execution_count": null,
      "outputs": [
        {
          "output_type": "execute_result",
          "data": {
            "text/html": [
              "<div>\n",
              "<style scoped>\n",
              "    .dataframe tbody tr th:only-of-type {\n",
              "        vertical-align: middle;\n",
              "    }\n",
              "\n",
              "    .dataframe tbody tr th {\n",
              "        vertical-align: top;\n",
              "    }\n",
              "\n",
              "    .dataframe thead th {\n",
              "        text-align: right;\n",
              "    }\n",
              "</style>\n",
              "<table border=\"1\" class=\"dataframe\">\n",
              "  <thead>\n",
              "    <tr style=\"text-align: right;\">\n",
              "      <th></th>\n",
              "      <th>A</th>\n",
              "      <th>B</th>\n",
              "      <th>C</th>\n",
              "      <th>D</th>\n",
              "    </tr>\n",
              "  </thead>\n",
              "  <tbody>\n",
              "    <tr>\n",
              "      <th>2020-06-07</th>\n",
              "      <td>-1.109002</td>\n",
              "      <td>-1.160916</td>\n",
              "      <td>0.815969</td>\n",
              "      <td>-0.514779</td>\n",
              "    </tr>\n",
              "    <tr>\n",
              "      <th>2020-06-08</th>\n",
              "      <td>0.584084</td>\n",
              "      <td>0.205822</td>\n",
              "      <td>-0.967518</td>\n",
              "      <td>-0.374997</td>\n",
              "    </tr>\n",
              "    <tr>\n",
              "      <th>2020-06-09</th>\n",
              "      <td>-1.590042</td>\n",
              "      <td>-0.856249</td>\n",
              "      <td>-1.991274</td>\n",
              "      <td>-2.810440</td>\n",
              "    </tr>\n",
              "  </tbody>\n",
              "</table>\n",
              "</div>"
            ],
            "text/plain": [
              "                   A         B         C         D\n",
              "2020-06-07 -1.109002 -1.160916  0.815969 -0.514779\n",
              "2020-06-08  0.584084  0.205822 -0.967518 -0.374997\n",
              "2020-06-09 -1.590042 -0.856249 -1.991274 -2.810440"
            ]
          },
          "metadata": {
            "tags": []
          },
          "execution_count": 83
        }
      ]
    },
    {
      "cell_type": "code",
      "metadata": {
        "id": "O1I2lNasWow2",
        "colab_type": "code",
        "colab": {
          "base_uri": "https://localhost:8080/",
          "height": 102
        },
        "outputId": "e3bd3812-589f-4b1d-ce4e-58bf371c3db3"
      },
      "source": [
        "#select by labels   #get the cross section using labels \n",
        "df.loc[dates[0]]"
      ],
      "execution_count": null,
      "outputs": [
        {
          "output_type": "execute_result",
          "data": {
            "text/plain": [
              "A   -1.109002\n",
              "B   -1.160916\n",
              "C    0.815969\n",
              "D   -0.514779\n",
              "Name: 2020-06-07 00:00:00, dtype: float64"
            ]
          },
          "metadata": {
            "tags": []
          },
          "execution_count": 87
        }
      ]
    },
    {
      "cell_type": "code",
      "metadata": {
        "id": "hyYd9V0VXMdD",
        "colab_type": "code",
        "colab": {
          "base_uri": "https://localhost:8080/",
          "height": 235
        },
        "outputId": "0687304d-60db-4fa5-ae46-72a60b7fca59"
      },
      "source": [
        "df.loc[:, ['A', 'B']]    #selecting multi-axis by label"
      ],
      "execution_count": null,
      "outputs": [
        {
          "output_type": "execute_result",
          "data": {
            "text/html": [
              "<div>\n",
              "<style scoped>\n",
              "    .dataframe tbody tr th:only-of-type {\n",
              "        vertical-align: middle;\n",
              "    }\n",
              "\n",
              "    .dataframe tbody tr th {\n",
              "        vertical-align: top;\n",
              "    }\n",
              "\n",
              "    .dataframe thead th {\n",
              "        text-align: right;\n",
              "    }\n",
              "</style>\n",
              "<table border=\"1\" class=\"dataframe\">\n",
              "  <thead>\n",
              "    <tr style=\"text-align: right;\">\n",
              "      <th></th>\n",
              "      <th>A</th>\n",
              "      <th>B</th>\n",
              "    </tr>\n",
              "  </thead>\n",
              "  <tbody>\n",
              "    <tr>\n",
              "      <th>2020-06-07</th>\n",
              "      <td>-1.109002</td>\n",
              "      <td>-1.160916</td>\n",
              "    </tr>\n",
              "    <tr>\n",
              "      <th>2020-06-08</th>\n",
              "      <td>0.584084</td>\n",
              "      <td>0.205822</td>\n",
              "    </tr>\n",
              "    <tr>\n",
              "      <th>2020-06-09</th>\n",
              "      <td>-1.590042</td>\n",
              "      <td>-0.856249</td>\n",
              "    </tr>\n",
              "    <tr>\n",
              "      <th>2020-06-10</th>\n",
              "      <td>1.157251</td>\n",
              "      <td>1.455518</td>\n",
              "    </tr>\n",
              "    <tr>\n",
              "      <th>2020-06-11</th>\n",
              "      <td>-0.076257</td>\n",
              "      <td>0.012141</td>\n",
              "    </tr>\n",
              "    <tr>\n",
              "      <th>2020-06-12</th>\n",
              "      <td>-2.010270</td>\n",
              "      <td>0.384734</td>\n",
              "    </tr>\n",
              "  </tbody>\n",
              "</table>\n",
              "</div>"
            ],
            "text/plain": [
              "                   A         B\n",
              "2020-06-07 -1.109002 -1.160916\n",
              "2020-06-08  0.584084  0.205822\n",
              "2020-06-09 -1.590042 -0.856249\n",
              "2020-06-10  1.157251  1.455518\n",
              "2020-06-11 -0.076257  0.012141\n",
              "2020-06-12 -2.010270  0.384734"
            ]
          },
          "metadata": {
            "tags": []
          },
          "execution_count": 88
        }
      ]
    },
    {
      "cell_type": "code",
      "metadata": {
        "id": "oIRTB7xjXYbh",
        "colab_type": "code",
        "colab": {
          "base_uri": "https://localhost:8080/",
          "height": 235
        },
        "outputId": "b122ac3f-f045-4b5e-f069-bebd28d69d8d"
      },
      "source": [
        "df.loc['20200607':'20200710', ['A', 'B']] #label slicing, both endpoints are included "
      ],
      "execution_count": null,
      "outputs": [
        {
          "output_type": "execute_result",
          "data": {
            "text/html": [
              "<div>\n",
              "<style scoped>\n",
              "    .dataframe tbody tr th:only-of-type {\n",
              "        vertical-align: middle;\n",
              "    }\n",
              "\n",
              "    .dataframe tbody tr th {\n",
              "        vertical-align: top;\n",
              "    }\n",
              "\n",
              "    .dataframe thead th {\n",
              "        text-align: right;\n",
              "    }\n",
              "</style>\n",
              "<table border=\"1\" class=\"dataframe\">\n",
              "  <thead>\n",
              "    <tr style=\"text-align: right;\">\n",
              "      <th></th>\n",
              "      <th>A</th>\n",
              "      <th>B</th>\n",
              "    </tr>\n",
              "  </thead>\n",
              "  <tbody>\n",
              "    <tr>\n",
              "      <th>2020-06-07</th>\n",
              "      <td>-1.109002</td>\n",
              "      <td>-1.160916</td>\n",
              "    </tr>\n",
              "    <tr>\n",
              "      <th>2020-06-08</th>\n",
              "      <td>0.584084</td>\n",
              "      <td>0.205822</td>\n",
              "    </tr>\n",
              "    <tr>\n",
              "      <th>2020-06-09</th>\n",
              "      <td>-1.590042</td>\n",
              "      <td>-0.856249</td>\n",
              "    </tr>\n",
              "    <tr>\n",
              "      <th>2020-06-10</th>\n",
              "      <td>1.157251</td>\n",
              "      <td>1.455518</td>\n",
              "    </tr>\n",
              "    <tr>\n",
              "      <th>2020-06-11</th>\n",
              "      <td>-0.076257</td>\n",
              "      <td>0.012141</td>\n",
              "    </tr>\n",
              "    <tr>\n",
              "      <th>2020-06-12</th>\n",
              "      <td>-2.010270</td>\n",
              "      <td>0.384734</td>\n",
              "    </tr>\n",
              "  </tbody>\n",
              "</table>\n",
              "</div>"
            ],
            "text/plain": [
              "                   A         B\n",
              "2020-06-07 -1.109002 -1.160916\n",
              "2020-06-08  0.584084  0.205822\n",
              "2020-06-09 -1.590042 -0.856249\n",
              "2020-06-10  1.157251  1.455518\n",
              "2020-06-11 -0.076257  0.012141\n",
              "2020-06-12 -2.010270  0.384734"
            ]
          },
          "metadata": {
            "tags": []
          },
          "execution_count": 90
        }
      ]
    },
    {
      "cell_type": "code",
      "metadata": {
        "id": "j9AHejVHX6IN",
        "colab_type": "code",
        "colab": {
          "base_uri": "https://localhost:8080/",
          "height": 68
        },
        "outputId": "ab841332-3064-4c99-9f7f-bfd38b669513"
      },
      "source": [
        "df.loc['20200607', ['A', 'B']]  #reduction in the dimension of the returned object"
      ],
      "execution_count": null,
      "outputs": [
        {
          "output_type": "execute_result",
          "data": {
            "text/plain": [
              "A   -1.109002\n",
              "B   -1.160916\n",
              "Name: 2020-06-07 00:00:00, dtype: float64"
            ]
          },
          "metadata": {
            "tags": []
          },
          "execution_count": 92
        }
      ]
    },
    {
      "cell_type": "code",
      "metadata": {
        "id": "M5yZhiYXYT55",
        "colab_type": "code",
        "colab": {
          "base_uri": "https://localhost:8080/",
          "height": 34
        },
        "outputId": "a13ff991-6ce9-4b0f-e035-9a1739c9cbea"
      },
      "source": [
        "df.loc[dates[0], 'A'] #for a scaler value"
      ],
      "execution_count": null,
      "outputs": [
        {
          "output_type": "execute_result",
          "data": {
            "text/plain": [
              "-1.1090024779123049"
            ]
          },
          "metadata": {
            "tags": []
          },
          "execution_count": 93
        }
      ]
    },
    {
      "cell_type": "code",
      "metadata": {
        "id": "uG57CEkkYgs4",
        "colab_type": "code",
        "colab": {
          "base_uri": "https://localhost:8080/",
          "height": 102
        },
        "outputId": "22f81d1b-a885-4951-c0bf-023194cfb27c"
      },
      "source": [
        "df.iloc[3]  #selecting positions by passing integers "
      ],
      "execution_count": null,
      "outputs": [
        {
          "output_type": "execute_result",
          "data": {
            "text/plain": [
              "A    1.157251\n",
              "B    1.455518\n",
              "C    1.557631\n",
              "D   -0.321652\n",
              "Name: 2020-06-10 00:00:00, dtype: float64"
            ]
          },
          "metadata": {
            "tags": []
          },
          "execution_count": 94
        }
      ]
    },
    {
      "cell_type": "code",
      "metadata": {
        "id": "z46ZEyk2Yo2q",
        "colab_type": "code",
        "colab": {
          "base_uri": "https://localhost:8080/",
          "height": 142
        },
        "outputId": "3f2533d5-f831-4793-9b25-15a884f35da9"
      },
      "source": [
        "df.iloc[[1, 2, 4], [0, 2]]"
      ],
      "execution_count": null,
      "outputs": [
        {
          "output_type": "execute_result",
          "data": {
            "text/html": [
              "<div>\n",
              "<style scoped>\n",
              "    .dataframe tbody tr th:only-of-type {\n",
              "        vertical-align: middle;\n",
              "    }\n",
              "\n",
              "    .dataframe tbody tr th {\n",
              "        vertical-align: top;\n",
              "    }\n",
              "\n",
              "    .dataframe thead th {\n",
              "        text-align: right;\n",
              "    }\n",
              "</style>\n",
              "<table border=\"1\" class=\"dataframe\">\n",
              "  <thead>\n",
              "    <tr style=\"text-align: right;\">\n",
              "      <th></th>\n",
              "      <th>A</th>\n",
              "      <th>C</th>\n",
              "    </tr>\n",
              "  </thead>\n",
              "  <tbody>\n",
              "    <tr>\n",
              "      <th>2020-06-08</th>\n",
              "      <td>0.584084</td>\n",
              "      <td>-0.967518</td>\n",
              "    </tr>\n",
              "    <tr>\n",
              "      <th>2020-06-09</th>\n",
              "      <td>-1.590042</td>\n",
              "      <td>-1.991274</td>\n",
              "    </tr>\n",
              "    <tr>\n",
              "      <th>2020-06-11</th>\n",
              "      <td>-0.076257</td>\n",
              "      <td>0.051222</td>\n",
              "    </tr>\n",
              "  </tbody>\n",
              "</table>\n",
              "</div>"
            ],
            "text/plain": [
              "                   A         C\n",
              "2020-06-08  0.584084 -0.967518\n",
              "2020-06-09 -1.590042 -1.991274\n",
              "2020-06-11 -0.076257  0.051222"
            ]
          },
          "metadata": {
            "tags": []
          },
          "execution_count": 95
        }
      ]
    },
    {
      "cell_type": "code",
      "metadata": {
        "id": "FhoL643YY_hX",
        "colab_type": "code",
        "colab": {
          "base_uri": "https://localhost:8080/",
          "height": 111
        },
        "outputId": "6737b86b-3ba8-4d27-a053-18197572b4db"
      },
      "source": [
        "df[df['A'] > 0] #using single columns values to select the data "
      ],
      "execution_count": null,
      "outputs": [
        {
          "output_type": "execute_result",
          "data": {
            "text/html": [
              "<div>\n",
              "<style scoped>\n",
              "    .dataframe tbody tr th:only-of-type {\n",
              "        vertical-align: middle;\n",
              "    }\n",
              "\n",
              "    .dataframe tbody tr th {\n",
              "        vertical-align: top;\n",
              "    }\n",
              "\n",
              "    .dataframe thead th {\n",
              "        text-align: right;\n",
              "    }\n",
              "</style>\n",
              "<table border=\"1\" class=\"dataframe\">\n",
              "  <thead>\n",
              "    <tr style=\"text-align: right;\">\n",
              "      <th></th>\n",
              "      <th>A</th>\n",
              "      <th>B</th>\n",
              "      <th>C</th>\n",
              "      <th>D</th>\n",
              "    </tr>\n",
              "  </thead>\n",
              "  <tbody>\n",
              "    <tr>\n",
              "      <th>2020-06-08</th>\n",
              "      <td>0.584084</td>\n",
              "      <td>0.205822</td>\n",
              "      <td>-0.967518</td>\n",
              "      <td>-0.374997</td>\n",
              "    </tr>\n",
              "    <tr>\n",
              "      <th>2020-06-10</th>\n",
              "      <td>1.157251</td>\n",
              "      <td>1.455518</td>\n",
              "      <td>1.557631</td>\n",
              "      <td>-0.321652</td>\n",
              "    </tr>\n",
              "  </tbody>\n",
              "</table>\n",
              "</div>"
            ],
            "text/plain": [
              "                   A         B         C         D\n",
              "2020-06-08  0.584084  0.205822 -0.967518 -0.374997\n",
              "2020-06-10  1.157251  1.455518  1.557631 -0.321652"
            ]
          },
          "metadata": {
            "tags": []
          },
          "execution_count": 96
        }
      ]
    },
    {
      "cell_type": "code",
      "metadata": {
        "id": "NKxPXbq4a6kF",
        "colab_type": "code",
        "colab": {
          "base_uri": "https://localhost:8080/",
          "height": 235
        },
        "outputId": "b4940e95-cf0d-4c54-b4b0-3b671d7385b4"
      },
      "source": [
        "df2 = df.copy()  \n",
        "df2['E'] = ['one', 'one', 'two', 'three', 'four', 'three']\n",
        "df2"
      ],
      "execution_count": null,
      "outputs": [
        {
          "output_type": "execute_result",
          "data": {
            "text/html": [
              "<div>\n",
              "<style scoped>\n",
              "    .dataframe tbody tr th:only-of-type {\n",
              "        vertical-align: middle;\n",
              "    }\n",
              "\n",
              "    .dataframe tbody tr th {\n",
              "        vertical-align: top;\n",
              "    }\n",
              "\n",
              "    .dataframe thead th {\n",
              "        text-align: right;\n",
              "    }\n",
              "</style>\n",
              "<table border=\"1\" class=\"dataframe\">\n",
              "  <thead>\n",
              "    <tr style=\"text-align: right;\">\n",
              "      <th></th>\n",
              "      <th>A</th>\n",
              "      <th>B</th>\n",
              "      <th>C</th>\n",
              "      <th>D</th>\n",
              "      <th>E</th>\n",
              "    </tr>\n",
              "  </thead>\n",
              "  <tbody>\n",
              "    <tr>\n",
              "      <th>2020-06-07</th>\n",
              "      <td>-1.109002</td>\n",
              "      <td>-1.160916</td>\n",
              "      <td>0.815969</td>\n",
              "      <td>-0.514779</td>\n",
              "      <td>one</td>\n",
              "    </tr>\n",
              "    <tr>\n",
              "      <th>2020-06-08</th>\n",
              "      <td>0.584084</td>\n",
              "      <td>0.205822</td>\n",
              "      <td>-0.967518</td>\n",
              "      <td>-0.374997</td>\n",
              "      <td>one</td>\n",
              "    </tr>\n",
              "    <tr>\n",
              "      <th>2020-06-09</th>\n",
              "      <td>-1.590042</td>\n",
              "      <td>-0.856249</td>\n",
              "      <td>-1.991274</td>\n",
              "      <td>-2.810440</td>\n",
              "      <td>two</td>\n",
              "    </tr>\n",
              "    <tr>\n",
              "      <th>2020-06-10</th>\n",
              "      <td>1.157251</td>\n",
              "      <td>1.455518</td>\n",
              "      <td>1.557631</td>\n",
              "      <td>-0.321652</td>\n",
              "      <td>three</td>\n",
              "    </tr>\n",
              "    <tr>\n",
              "      <th>2020-06-11</th>\n",
              "      <td>-0.076257</td>\n",
              "      <td>0.012141</td>\n",
              "      <td>0.051222</td>\n",
              "      <td>-0.164075</td>\n",
              "      <td>four</td>\n",
              "    </tr>\n",
              "    <tr>\n",
              "      <th>2020-06-12</th>\n",
              "      <td>-2.010270</td>\n",
              "      <td>0.384734</td>\n",
              "      <td>-0.953955</td>\n",
              "      <td>2.037770</td>\n",
              "      <td>three</td>\n",
              "    </tr>\n",
              "  </tbody>\n",
              "</table>\n",
              "</div>"
            ],
            "text/plain": [
              "                   A         B         C         D      E\n",
              "2020-06-07 -1.109002 -1.160916  0.815969 -0.514779    one\n",
              "2020-06-08  0.584084  0.205822 -0.967518 -0.374997    one\n",
              "2020-06-09 -1.590042 -0.856249 -1.991274 -2.810440    two\n",
              "2020-06-10  1.157251  1.455518  1.557631 -0.321652  three\n",
              "2020-06-11 -0.076257  0.012141  0.051222 -0.164075   four\n",
              "2020-06-12 -2.010270  0.384734 -0.953955  2.037770  three"
            ]
          },
          "metadata": {
            "tags": []
          },
          "execution_count": 102
        }
      ]
    },
    {
      "cell_type": "code",
      "metadata": {
        "id": "D2EAqpG6bHTp",
        "colab_type": "code",
        "colab": {
          "base_uri": "https://localhost:8080/",
          "height": 111
        },
        "outputId": "a7c73cd8-d86e-44cc-f3a7-dccc661c4409"
      },
      "source": [
        "df2[df2['E'].isin(['two', 'four'])] #using isin method for filtering"
      ],
      "execution_count": null,
      "outputs": [
        {
          "output_type": "execute_result",
          "data": {
            "text/html": [
              "<div>\n",
              "<style scoped>\n",
              "    .dataframe tbody tr th:only-of-type {\n",
              "        vertical-align: middle;\n",
              "    }\n",
              "\n",
              "    .dataframe tbody tr th {\n",
              "        vertical-align: top;\n",
              "    }\n",
              "\n",
              "    .dataframe thead th {\n",
              "        text-align: right;\n",
              "    }\n",
              "</style>\n",
              "<table border=\"1\" class=\"dataframe\">\n",
              "  <thead>\n",
              "    <tr style=\"text-align: right;\">\n",
              "      <th></th>\n",
              "      <th>A</th>\n",
              "      <th>B</th>\n",
              "      <th>C</th>\n",
              "      <th>D</th>\n",
              "      <th>E</th>\n",
              "    </tr>\n",
              "  </thead>\n",
              "  <tbody>\n",
              "    <tr>\n",
              "      <th>2020-06-09</th>\n",
              "      <td>-1.590042</td>\n",
              "      <td>-0.856249</td>\n",
              "      <td>-1.991274</td>\n",
              "      <td>-2.810440</td>\n",
              "      <td>two</td>\n",
              "    </tr>\n",
              "    <tr>\n",
              "      <th>2020-06-11</th>\n",
              "      <td>-0.076257</td>\n",
              "      <td>0.012141</td>\n",
              "      <td>0.051222</td>\n",
              "      <td>-0.164075</td>\n",
              "      <td>four</td>\n",
              "    </tr>\n",
              "  </tbody>\n",
              "</table>\n",
              "</div>"
            ],
            "text/plain": [
              "                   A         B         C         D     E\n",
              "2020-06-09 -1.590042 -0.856249 -1.991274 -2.810440   two\n",
              "2020-06-11 -0.076257  0.012141  0.051222 -0.164075  four"
            ]
          },
          "metadata": {
            "tags": []
          },
          "execution_count": 103
        }
      ]
    },
    {
      "cell_type": "markdown",
      "metadata": {
        "id": "gDuwpAonaBoc",
        "colab_type": "text"
      },
      "source": [
        "Here! is the end of workshop 1st week. I will recommend look deeper in resources, I am not expert. I bet you will get better details than me. How did you like the workshop 1st day. Please let us know in survey. Have a great days till our next meeting. Any questions please reach out to us, we all are here to help each other. "
      ]
    }
  ]
}